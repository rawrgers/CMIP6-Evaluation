{
 "cells": [
  {
   "cell_type": "code",
   "execution_count": 1,
   "metadata": {},
   "outputs": [
    {
     "data": {
      "application/vnd.jupyter.widget-view+json": {
       "model_id": "71f9f51531f34d368955df31c0a1fa3a",
       "version_major": 2,
       "version_minor": 0
      },
      "text/plain": [
       "VBox(children=(HTML(value='<h2>GatewayCluster</h2>'), HBox(children=(HTML(value='\\n<div>\\n<style scoped>\\n    …"
      ]
     },
     "metadata": {},
     "output_type": "display_data"
    }
   ],
   "source": [
    "import numpy as np\n",
    "import pandas as pd\n",
    "import xarray as xr\n",
    "import zarr\n",
    "import gcsfs\n",
    "from tqdm.notebook import tqdm\n",
    "import pyinterp.backends.xarray\n",
    "\n",
    "xr.set_options(display_style='html')\n",
    "\n",
    "from dask_gateway import Gateway\n",
    "from dask.distributed import Client\n",
    "\n",
    "gateway = Gateway()\n",
    "cluster = gateway.new_cluster()\n",
    "cluster.adapt(minimum=1, maximum=20)\n",
    "client = Client(cluster)\n",
    "cluster"
   ]
  },
  {
   "cell_type": "code",
   "execution_count": 74,
   "metadata": {},
   "outputs": [],
   "source": [
    "def load_data(df):\n",
    "    \"\"\"\n",
    "    Load data for given sourc\n",
    "    \"\"\"\n",
    "    ds = {}\n",
    "    for source_id in tqdm(df['source_id']):\n",
    "        vad = df[(df.source_id == source_id)].zstore.values[0]\n",
    "    \n",
    "        gcs = gcsfs.GCSFileSystem(token='anon')\n",
    "        if any(df.variable_id == 'tas'):\n",
    "            ds[source_id] = xr.open_zarr(gcs.get_mapper(vad), consolidated=True).tas\n",
    "        elif any(df.variable_id.str.contains('tasmin')):\n",
    "            ds[source_id] = xr.open_zarr(gcs.get_mapper(vad), consolidated=True).tasmin\n",
    "        elif any(df.variable_id.str.contains('tasmax')):\n",
    "            ds[source_id] = xr.open_zarr(gcs.get_mapper(vad), consolidated=True).tasmax\n",
    "        else:\n",
    "            ds[source_id] = xr.open_zarr(gcs.get_mapper(vad), consolidated=True).pr\n",
    "        \n",
    "#         \"\"\"\n",
    "#         Interpolate to 1°×1° grid using inverse-distance weighting interpolation\n",
    "#         \"\"\"\n",
    "#         interpolator = pyinterp.backends.xarray.2dGrid(\n",
    "#             ds[source_id], geodetic=True)\n",
    "#         mss = interpolator.inverse_distance_weighting(dict(lon=mx.flatten(), lat=my.flatten()))\n",
    "    return ds"
   ]
  },
  {
   "cell_type": "code",
   "execution_count": 75,
   "metadata": {
    "jupyter": {
     "source_hidden": true
    }
   },
   "outputs": [],
   "source": [
    "# Now we need to limit the spatial domain\n",
    "# PNW domain: 124.5°W–110.5°W, 41.5°–49.5°N\n",
    "# Expanded domain: 165°W–100°W, 20°N–60°N\n",
    "\n",
    "def meanannualmean(df,y):\n",
    "    ds = {}\n",
    "    for source_id in tqdm(df.keys()):\n",
    "        try:\n",
    "            ds[source_id] = df[source_id].sel(time=slice(y[0],y[1]),lat=slice(41.5,49.5),lon=slice(235.5,249.5)).mean() \n",
    "        except ValueError:\n",
    "            ds[source_id] = df[source_id].sel(time=slice(y[0],y[1]),latitude=slice(41.5,49.5),longitude=slice(235.5,249.5)).mean()\n",
    "        except:\n",
    "            print(source_id,'failed to compute annual mean')\n",
    "    return ds"
   ]
  },
  {
   "cell_type": "code",
   "execution_count": 76,
   "metadata": {
    "jupyter": {
     "source_hidden": true
    }
   },
   "outputs": [],
   "source": [
    "def meandiurnalrange(max,min,y):\n",
    "    ds = {}\n",
    "    for source_id in tqdm(max.keys()):\n",
    "        try:\n",
    "            tmx = max[source_id].sel(time=slice(y[0],y[1]),lat=slice(41.5,49.5),lon=slice(235.5,249.5)).groupby('time.season').mean(['time','lat','lon'])\n",
    "            tmn = min[source_id].sel(time=slice(y[0],y[1]),lat=slice(41.5,49.5),lon=slice(235.5,249.5)).groupby('time.season').mean(['time','lat','lon'])\n",
    "            ds[source_id] = tmx-tmn\n",
    "        except:\n",
    "            print(source_id,'failed to compute mean diurnal range')\n",
    "#         print(source_id, ds[source_id].values)\n",
    "    return ds"
   ]
  },
  {
   "cell_type": "code",
   "execution_count": 77,
   "metadata": {
    "jupyter": {
     "source_hidden": true
    }
   },
   "outputs": [],
   "source": [
    "# Mean amplitude of seasonal cycle as the difference between warmest and coldest month (T) or wettest and driest month (P). \n",
    "# Monthly precipitation calculated as percentage of mean annual total, 1960–1999 or wettest and driest month (P). \n",
    "# Monthly precipitation calculated as percentage of mean annual total, 1960–1999.\n",
    "    \n",
    "def seasonamp(df,y):\n",
    "    ds = {}\n",
    "    for source_id in tqdm(df.keys()):\n",
    "        try:\n",
    "            var = df[source_id].sel(time=slice(y[0],y[1]),lat=slice(41.5,49.5),lon=slice(235.5,249.5)).mean(['lat','lon'])\n",
    "            mx = var.groupby('time.year').max()\n",
    "            mn = var.groupby('time.year').min()\n",
    "            if df[source_id].units == 'K':\n",
    "                ds[source_id] = mx-mn\n",
    "            else:\n",
    "                tot = var.groupby('time.year').sum()\n",
    "                ds[source_id] = ((mx-mn)/tot)*100.\n",
    "            ds[source_id] = ds[source_id].mean()\n",
    "        except:\n",
    "            print(source_id, 'failed to compute seasonal amplitude')\n",
    "    return ds"
   ]
  },
  {
   "cell_type": "code",
   "execution_count": null,
   "metadata": {},
   "outputs": [],
   "source": [
    "def main():\n",
    "    \n",
    "#==================================================\n",
    "    # Gather data\n",
    "    df = pd.read_csv('https://storage.googleapis.com/cmip6/cmip6-zarr-consolidated-stores.csv')\n",
    "    \n",
    "    # Query all historical runs for needed variables\n",
    "    tas = df.query(\"activity_id=='CMIP' & experiment_id=='historical' & member_id=='r1i1p1f1' & table_id=='Amon' & variable_id=='tas' & grid_label=='gn'\")\n",
    "    tasmin = df.query(\"activity_id=='CMIP' & experiment_id=='historical' & member_id=='r1i1p1f1' & table_id=='Amon' & variable_id=='tasmin' & grid_label=='gn'\")\n",
    "    tasmax = df.query(\"activity_id=='CMIP' & experiment_id=='historical' & member_id=='r1i1p1f1' & table_id=='Amon' & variable_id=='tasmax' & grid_label=='gn'\")\n",
    "    pr = df.query(\"activity_id=='CMIP' & experiment_id=='historical' & member_id=='r1i1p1f1' & table_id=='Amon' & variable_id=='pr' & grid_label=='gn'\")\n",
    "#==================================================\n",
    "    print('Loading All Data...')\n",
    "    \n",
    "    tas = load_data(tas)\n",
    "    tasmax = load_data(tasmax)\n",
    "    tasmin = load_data(tasmin)\n",
    "    pr = load_data(pr)\n",
    "#==================================================\n",
    "    print('Computing mean annual temperature and precipitation...')\n",
    "    \n",
    "    annmean_tas = meanannualmean(tas,['1960-01','1999-12'])\n",
    "    annmean_pr = meanannualmean(pr,['1960-01','1999-12'])\n",
    "#==================================================\n",
    "    print('Computing mean diurnal temperature ranges for winter and summer seasons...')\n",
    "    \n",
    "    diurnal_tas = meandiurnalrange(tasmax,tasmin,['1950-01','1999-12']) # Something seems to be up with CMCC-CM2-SR5, AWI-CM-1-1-MR, and NESM3\n",
    "#==================================================\n",
    "    print('Computing mean seasonal amplitude of temperature and precipitation...')\n",
    "\n",
    "    seasonamp_tas = seasonamp(tas,['1960-01','1999-12'])\n",
    "    seasonamp_pr = seasonamp(pr,['1960-01','1999-12'])"
   ]
  },
  {
   "cell_type": "code",
   "execution_count": 79,
   "metadata": {},
   "outputs": [
    {
     "name": "stderr",
     "output_type": "stream",
     "text": [
      "/srv/conda/envs/notebook/lib/python3.8/site-packages/IPython/core/interactiveshell.py:3338: DtypeWarning: Columns (10) have mixed types.Specify dtype option on import or set low_memory=False.\n",
      "  if (await self.run_code(code, result,  async_=asy)):\n"
     ]
    },
    {
     "name": "stdout",
     "output_type": "stream",
     "text": [
      "Loading All Data...\n"
     ]
    },
    {
     "data": {
      "application/vnd.jupyter.widget-view+json": {
       "model_id": "d663e02c166f4c41a98156f349b21917",
       "version_major": 2,
       "version_minor": 0
      },
      "text/plain": [
       "HBox(children=(HTML(value=''), FloatProgress(value=0.0, max=33.0), HTML(value='')))"
      ]
     },
     "metadata": {},
     "output_type": "display_data"
    },
    {
     "name": "stdout",
     "output_type": "stream",
     "text": [
      "\n"
     ]
    },
    {
     "data": {
      "application/vnd.jupyter.widget-view+json": {
       "model_id": "db704cca1cc9484cb84a0d5269c9d46c",
       "version_major": 2,
       "version_minor": 0
      },
      "text/plain": [
       "HBox(children=(HTML(value=''), FloatProgress(value=0.0, max=20.0), HTML(value='')))"
      ]
     },
     "metadata": {},
     "output_type": "display_data"
    },
    {
     "name": "stdout",
     "output_type": "stream",
     "text": [
      "\n"
     ]
    },
    {
     "data": {
      "application/vnd.jupyter.widget-view+json": {
       "model_id": "44a0ccb32376446ebffba65fe43b0331",
       "version_major": 2,
       "version_minor": 0
      },
      "text/plain": [
       "HBox(children=(HTML(value=''), FloatProgress(value=0.0, max=20.0), HTML(value='')))"
      ]
     },
     "metadata": {},
     "output_type": "display_data"
    },
    {
     "name": "stdout",
     "output_type": "stream",
     "text": [
      "\n"
     ]
    },
    {
     "data": {
      "application/vnd.jupyter.widget-view+json": {
       "model_id": "369d0cd074e14d5cb6fdfbf26a40b487",
       "version_major": 2,
       "version_minor": 0
      },
      "text/plain": [
       "HBox(children=(HTML(value=''), FloatProgress(value=0.0, max=33.0), HTML(value='')))"
      ]
     },
     "metadata": {},
     "output_type": "display_data"
    },
    {
     "name": "stdout",
     "output_type": "stream",
     "text": [
      "\n",
      "Computing mean annual temperature and precipitation...\n"
     ]
    },
    {
     "data": {
      "application/vnd.jupyter.widget-view+json": {
       "model_id": "6fc0f907abad4819859570b034c6acb9",
       "version_major": 2,
       "version_minor": 0
      },
      "text/plain": [
       "HBox(children=(HTML(value=''), FloatProgress(value=0.0, max=33.0), HTML(value='')))"
      ]
     },
     "metadata": {},
     "output_type": "display_data"
    },
    {
     "name": "stdout",
     "output_type": "stream",
     "text": [
      "MPI-ESM1-2-HR failed to compute annual mean\n",
      "\n"
     ]
    },
    {
     "data": {
      "application/vnd.jupyter.widget-view+json": {
       "model_id": "ec42b0b1daa84684a3443b3e8d38ec3f",
       "version_major": 2,
       "version_minor": 0
      },
      "text/plain": [
       "HBox(children=(HTML(value=''), FloatProgress(value=0.0, max=33.0), HTML(value='')))"
      ]
     },
     "metadata": {},
     "output_type": "display_data"
    },
    {
     "name": "stdout",
     "output_type": "stream",
     "text": [
      "\n",
      "Computing mean diurnal temperature ranges for winter and summer seasons...\n"
     ]
    },
    {
     "data": {
      "application/vnd.jupyter.widget-view+json": {
       "model_id": "b19c4e622ad4483aa5c1f28a68b25fcf",
       "version_major": 2,
       "version_minor": 0
      },
      "text/plain": [
       "HBox(children=(HTML(value=''), FloatProgress(value=0.0, max=20.0), HTML(value='')))"
      ]
     },
     "metadata": {},
     "output_type": "display_data"
    },
    {
     "name": "stdout",
     "output_type": "stream",
     "text": [
      "\n",
      "Computing mean seasonal amplitude of temperature and precipitation...\n"
     ]
    },
    {
     "data": {
      "application/vnd.jupyter.widget-view+json": {
       "model_id": "3e93259a20c34cc9ac704aea50212669",
       "version_major": 2,
       "version_minor": 0
      },
      "text/plain": [
       "HBox(children=(HTML(value=''), FloatProgress(value=0.0, max=33.0), HTML(value='')))"
      ]
     },
     "metadata": {},
     "output_type": "display_data"
    },
    {
     "name": "stdout",
     "output_type": "stream",
     "text": [
      "MPI-ESM1-2-HR failed to compute seasonal amplitude\n",
      "MCM-UA-1-0 failed to compute seasonal amplitude\n",
      "\n"
     ]
    },
    {
     "data": {
      "application/vnd.jupyter.widget-view+json": {
       "model_id": "15552e1bf78f4d16bf309a2e6716bfe2",
       "version_major": 2,
       "version_minor": 0
      },
      "text/plain": [
       "HBox(children=(HTML(value=''), FloatProgress(value=0.0, max=33.0), HTML(value='')))"
      ]
     },
     "metadata": {},
     "output_type": "display_data"
    },
    {
     "name": "stdout",
     "output_type": "stream",
     "text": [
      "MCM-UA-1-0 failed to compute seasonal amplitude\n",
      "\n"
     ]
    }
   ],
   "source": [
    "if __name__ == \"__main__\":\n",
    "    main()"
   ]
  },
  {
   "cell_type": "code",
   "execution_count": null,
   "metadata": {},
   "outputs": [],
   "source": [
    "\n"
   ]
  }
 ],
 "metadata": {
  "kernelspec": {
   "display_name": "Python 3",
   "language": "python",
   "name": "python3"
  },
  "language_info": {
   "codemirror_mode": {
    "name": "ipython",
    "version": 3
   },
   "file_extension": ".py",
   "mimetype": "text/x-python",
   "name": "python",
   "nbconvert_exporter": "python",
   "pygments_lexer": "ipython3",
   "version": "3.8.6"
  }
 },
 "nbformat": 4,
 "nbformat_minor": 4
}
