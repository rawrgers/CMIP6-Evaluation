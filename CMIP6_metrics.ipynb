{
 "cells": [
  {
   "cell_type": "code",
   "execution_count": 265,
   "metadata": {},
   "outputs": [
    {
     "data": {
      "application/vnd.jupyter.widget-view+json": {
       "model_id": "2de7b07f5f9843e7a09aa3c91204f524",
       "version_major": 2,
       "version_minor": 0
      },
      "text/plain": [
       "VBox(children=(HTML(value='<h2>GatewayCluster</h2>'), HBox(children=(HTML(value='\\n<div>\\n<style scoped>\\n    …"
      ]
     },
     "metadata": {},
     "output_type": "display_data"
    }
   ],
   "source": [
    "import numpy as np\n",
    "import pandas as pd\n",
    "import xarray as xr\n",
    "import zarr\n",
    "import gcsfs\n",
    "from tqdm.notebook import tqdm\n",
    "\n",
    "xr.set_options(display_style='html')\n",
    "\n",
    "from dask_gateway import Gateway\n",
    "from dask.distributed import Client\n",
    "\n",
    "gateway = Gateway()\n",
    "cluster = gateway.new_cluster()\n",
    "cluster.adapt(minimum=1, maximum=20)\n",
    "client = Client(cluster)\n",
    "cluster"
   ]
  },
  {
   "cell_type": "code",
   "execution_count": 266,
   "metadata": {
    "jupyter": {
     "source_hidden": true
    }
   },
   "outputs": [],
   "source": [
    "def load_data(df):\n",
    "    \"\"\"\n",
    "    Load data for given source\n",
    "    \"\"\"\n",
    "    ds = {}\n",
    "    for source_id in tqdm(df['source_id']):\n",
    "        vad = df[(df.source_id == source_id)].zstore.values[0]\n",
    "    \n",
    "        gcs = gcsfs.GCSFileSystem(token='anon')\n",
    "        if any(df.variable_id == 'tas'):\n",
    "            ds[source_id] = xr.open_zarr(gcs.get_mapper(vad), consolidated=True).tas\n",
    "        elif any(df.variable_id.str.contains('tasmin')):\n",
    "            ds[source_id] = xr.open_zarr(gcs.get_mapper(vad), consolidated=True).tasmin\n",
    "        elif any(df.variable_id.str.contains('tasmax')):\n",
    "            ds[source_id] = xr.open_zarr(gcs.get_mapper(vad), consolidated=True).tasmax\n",
    "        else:\n",
    "            ds[source_id] = xr.open_zarr(gcs.get_mapper(vad), consolidated=True).pr\n",
    "    return ds"
   ]
  },
  {
   "cell_type": "code",
   "execution_count": 267,
   "metadata": {
    "jupyter": {
     "source_hidden": true
    }
   },
   "outputs": [],
   "source": [
    "# Now we need to limit the spatial domain\n",
    "# PNW domain: 124.5°W–110.5°W, 41.5°–49.5°N\n",
    "# Expanded domain: 165°W–100°W, 20°N–60°N\n",
    "\n",
    "def meanannualmean(df,y):\n",
    "    ds = {}\n",
    "    for source_id in tqdm(df.keys()):\n",
    "        try:\n",
    "            ds[source_id] = df[source_id].sel(time=slice(y[0],y[1]),lat=slice(41.5,49.5),lon=slice(235,249)).mean() \n",
    "        except ValueError:\n",
    "            ds[source_id] = df[source_id].sel(time=slice(y[0],y[1]),latitude=slice(41.5,49.5),longitude=slice(235,249)).mean()\n",
    "        except:\n",
    "            pass\n",
    "    return ds"
   ]
  },
  {
   "cell_type": "code",
   "execution_count": 304,
   "metadata": {},
   "outputs": [],
   "source": [
    "def meandiurnalrange(max,min,y):\n",
    "    ds = {}\n",
    "    for source_id in tqdm(max.keys()):\n",
    "        mx = max[source_id].sel(time=slice(y[0],y[1]),lat=slice(41.5,49.5),lon=slice(235,249))\n",
    "        mx = mx.groupby('time.season').mean(['time','lat','lon'])\n",
    "        mn = min[source_id].sel(time=slice(y[0],y[1]),lat=slice(41.5,49.5),lon=slice(235,249))\n",
    "        mn = mn.groupby('time.season').mean(['time','lat','lon'])\n",
    "        ds[source_id] = mx-mn\n",
    "    return ds"
   ]
  },
  {
   "cell_type": "code",
   "execution_count": 309,
   "metadata": {},
   "outputs": [],
   "source": [
    "def main():\n",
    "    \n",
    "#==================================================\n",
    "    # Gather data\n",
    "    df = pd.read_csv('https://storage.googleapis.com/cmip6/cmip6-zarr-consolidated-stores.csv')\n",
    "    \n",
    "    # Query all historical runs for needed variables\n",
    "    tas = df.query(\"activity_id=='CMIP' & experiment_id=='historical' & member_id=='r1i1p1f1' & table_id=='Amon' & variable_id=='tas' & grid_label=='gn'\")\n",
    "    tasmin = df.query(\"activity_id=='CMIP' & experiment_id=='historical' & member_id=='r1i1p1f1' & table_id=='Amon' & variable_id=='tasmin' & grid_label=='gn'\")\n",
    "    tasmax = df.query(\"activity_id=='CMIP' & experiment_id=='historical' & member_id=='r1i1p1f1' & table_id=='Amon' & variable_id=='tasmax' & grid_label=='gn'\")\n",
    "    pr = df.query(\"activity_id=='CMIP' & experiment_id=='historical' & member_id=='r1i1p1f1' & table_id=='Amon' & variable_id=='pr' & grid_label=='gn'\")\n",
    "#==================================================\n",
    "    print('Loading All Data...')\n",
    "    \n",
    "    tas = load_data(tas)\n",
    "    tasmax = load_data(tasmax)\n",
    "    tasmin = load_data(tasmin)\n",
    "    pr = load_data(pr)\n",
    "#==================================================\n",
    "    print('Computing mean annual temperature and precipitation...')\n",
    "    \n",
    "    annmean_tas = meanannualmean(tas,['1960-01','1999-12'])\n",
    "    annmean_pr = meanannualmean(pr,['1960-01','1999-12'])\n",
    "#==================================================\n",
    "    print ('Computing mean diurnal temperature ranges for winter and summer seasons...')\n",
    "    \n",
    "    diurnal_tas = meandiurnalrange(tasmax,tasmin,['1950-01','1999-12']) # Something seems to be up with CMCC-CM2-SR5\n",
    "#=================================================="
   ]
  },
  {
   "cell_type": "code",
   "execution_count": 310,
   "metadata": {},
   "outputs": [
    {
     "name": "stdout",
     "output_type": "stream",
     "text": [
      "Loading All Data...\n"
     ]
    },
    {
     "data": {
      "application/vnd.jupyter.widget-view+json": {
       "model_id": "3ffac96f051547da801c8c3135f32b4c",
       "version_major": 2,
       "version_minor": 0
      },
      "text/plain": [
       "HBox(children=(HTML(value=''), FloatProgress(value=0.0, max=33.0), HTML(value='')))"
      ]
     },
     "metadata": {},
     "output_type": "display_data"
    },
    {
     "name": "stdout",
     "output_type": "stream",
     "text": [
      "\n"
     ]
    },
    {
     "data": {
      "application/vnd.jupyter.widget-view+json": {
       "model_id": "a6d2b277b6bc4a50846ebd0d12cd1a88",
       "version_major": 2,
       "version_minor": 0
      },
      "text/plain": [
       "HBox(children=(HTML(value=''), FloatProgress(value=0.0, max=20.0), HTML(value='')))"
      ]
     },
     "metadata": {},
     "output_type": "display_data"
    },
    {
     "name": "stdout",
     "output_type": "stream",
     "text": [
      "\n"
     ]
    },
    {
     "data": {
      "application/vnd.jupyter.widget-view+json": {
       "model_id": "3ea9f429d8084b5b8b882e9ca2a94d6e",
       "version_major": 2,
       "version_minor": 0
      },
      "text/plain": [
       "HBox(children=(HTML(value=''), FloatProgress(value=0.0, max=20.0), HTML(value='')))"
      ]
     },
     "metadata": {},
     "output_type": "display_data"
    },
    {
     "name": "stdout",
     "output_type": "stream",
     "text": [
      "\n"
     ]
    },
    {
     "data": {
      "application/vnd.jupyter.widget-view+json": {
       "model_id": "91ba86d3242947c0af69cc09ccb3ce7a",
       "version_major": 2,
       "version_minor": 0
      },
      "text/plain": [
       "HBox(children=(HTML(value=''), FloatProgress(value=0.0, max=33.0), HTML(value='')))"
      ]
     },
     "metadata": {},
     "output_type": "display_data"
    },
    {
     "name": "stdout",
     "output_type": "stream",
     "text": [
      "\n",
      "Computing mean annual temperature and precipitation...\n"
     ]
    },
    {
     "data": {
      "application/vnd.jupyter.widget-view+json": {
       "model_id": "f4cd6236e0734bb4884007ee76669a89",
       "version_major": 2,
       "version_minor": 0
      },
      "text/plain": [
       "HBox(children=(HTML(value=''), FloatProgress(value=0.0, max=33.0), HTML(value='')))"
      ]
     },
     "metadata": {},
     "output_type": "display_data"
    },
    {
     "name": "stdout",
     "output_type": "stream",
     "text": [
      "\n"
     ]
    },
    {
     "data": {
      "application/vnd.jupyter.widget-view+json": {
       "model_id": "ba1ea346a31d410c8a250d6307e3428b",
       "version_major": 2,
       "version_minor": 0
      },
      "text/plain": [
       "HBox(children=(HTML(value=''), FloatProgress(value=0.0, max=33.0), HTML(value='')))"
      ]
     },
     "metadata": {},
     "output_type": "display_data"
    },
    {
     "name": "stdout",
     "output_type": "stream",
     "text": [
      "\n",
      "Computing mean diurnal temperature ranges for winter and summer seasons... \n"
     ]
    },
    {
     "data": {
      "application/vnd.jupyter.widget-view+json": {
       "model_id": "e068aca25fe6481c91662abe242feb89",
       "version_major": 2,
       "version_minor": 0
      },
      "text/plain": [
       "HBox(children=(HTML(value=''), FloatProgress(value=0.0, max=20.0), HTML(value='')))"
      ]
     },
     "metadata": {},
     "output_type": "display_data"
    },
    {
     "name": "stdout",
     "output_type": "stream",
     "text": [
      "AWI-CM-1-1-MR [25.014816 22.891632 24.483307 25.769714]\n",
      "AWI-ESM-1-1-LR [ 6.815674 11.822601  8.751556  9.224182]\n",
      "BCC-CSM2-MR [ 6.3529053 14.75769    8.156433   8.965729 ]\n",
      "BCC-ESM1 [ 5.4093018 14.092377   6.858673   8.404236 ]\n",
      "CAS-ESM2-0 [ 7.8840027 13.730682   9.777191   9.279358 ]\n",
      "FGOALS-g3 [ 7.115753 14.666901 10.336578  9.19928 ]\n",
      "CanESM5 [ 7.7059326 11.821869   8.933441   9.598206 ]\n",
      "CMCC-CM2-SR5 [0. 0. 0. 0.]\n",
      "ACCESS-CM2 [ 6.024414 11.626038  7.935028  8.158447]\n",
      "ACCESS-ESM1-5 [ 4.4771423 12.608459   7.3803406  8.047546 ]\n",
      "MPI-ESM-1-2-HAM [ 6.694031 11.354645  8.464081  9.406494]\n",
      "MIROC6 [ 4.6099854 13.906647   9.700226   8.283905 ]\n",
      "MPI-ESM1-2-HR [ 7.119934 11.803253  8.964935  9.471466]\n",
      "MPI-ESM1-2-LR [ 6.9398804 11.248779   8.654175   9.203857 ]\n",
      "MRI-ESM2-0 [4.815735 9.255249 7.317993 6.811676]\n",
      "GISS-E2-1-G-CC [ 5.950012 13.603058  8.824463  9.209473]\n",
      "GISS-E2-1-G [ 6.097168 13.728912  9.185852  9.318024]\n",
      "GISS-E2-1-H [ 6.0700073 12.888977   9.333801   8.794861 ]\n",
      "NESM3 [1.3609314 2.5393677 1.7218018 1.8757935]\n",
      "SAM0-UNICON [ 7.879242 14.53775  10.045013 10.719147]\n",
      "\n"
     ]
    }
   ],
   "source": [
    "if __name__ == \"__main__\":\n",
    "    main()"
   ]
  },
  {
   "cell_type": "code",
   "execution_count": 236,
   "metadata": {},
   "outputs": [],
   "source": []
  }
 ],
 "metadata": {
  "kernelspec": {
   "display_name": "Python 3",
   "language": "python",
   "name": "python3"
  },
  "language_info": {
   "codemirror_mode": {
    "name": "ipython",
    "version": 3
   },
   "file_extension": ".py",
   "mimetype": "text/x-python",
   "name": "python",
   "nbconvert_exporter": "python",
   "pygments_lexer": "ipython3",
   "version": "3.8.6"
  }
 },
 "nbformat": 4,
 "nbformat_minor": 4
}
